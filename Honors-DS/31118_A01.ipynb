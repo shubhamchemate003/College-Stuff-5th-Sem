{
    "cells": [
        {
            "cell_type": "markdown",
            "source": [
                "Name: Shubham Chemate  \r\n",
                "Roll No: 31118  \r\n",
                "DSV Assignment 01 : Python Basics"
            ],
            "metadata": {}
        },
        {
            "cell_type": "markdown",
            "source": [
                "## 1. F2C Conversion"
            ],
            "metadata": {}
        },
        {
            "cell_type": "code",
            "execution_count": 3,
            "source": [
                "F = float(input())\r\n",
                "C = (F-32)*5/9\r\n",
                "print(\"Fahrenheit temperature\", F,\r\n",
                "      \"is the same as\", round(C, 2), \"degrees Celsius.\")"
            ],
            "outputs": [
                {
                    "output_type": "stream",
                    "name": "stdout",
                    "text": [
                        "Fahrenheit temperature 0.555 is the same as -17.47 degrees Celsius.\n"
                    ]
                }
            ],
            "metadata": {}
        },
        {
            "cell_type": "markdown",
            "source": [
                "## 2. Final Velocity"
            ],
            "metadata": {}
        },
        {
            "cell_type": "code",
            "execution_count": 5,
            "source": [
                "u = float(input())\r\n",
                "a = float(input())\r\n",
                "t = float(input())\r\n",
                "v = u + a*t\r\n",
                "print(\"The final velocity is\", round(v, 2))"
            ],
            "outputs": [
                {
                    "output_type": "stream",
                    "name": "stdout",
                    "text": [
                        "The final velocity is 50.0\n"
                    ]
                }
            ],
            "metadata": {}
        },
        {
            "cell_type": "markdown",
            "source": [
                "## 3. Displacement Covered"
            ],
            "metadata": {}
        },
        {
            "cell_type": "code",
            "execution_count": 6,
            "source": [
                "u = float(input())\r\n",
                "a = float(input())\r\n",
                "t = float(input())\r\n",
                "s = u*t + 0.5*a*t*t\r\n",
                "print (\"The displacement is\", round(s, 2))"
            ],
            "outputs": [
                {
                    "output_type": "stream",
                    "name": "stdout",
                    "text": [
                        "The displacement is 70.0\n"
                    ]
                }
            ],
            "metadata": {}
        },
        {
            "cell_type": "markdown",
            "source": [
                "## 4. Number of Days"
            ],
            "metadata": {}
        },
        {
            "cell_type": "code",
            "execution_count": 7,
            "source": [
                "s = int(input())\r\n",
                "\r\n",
                "hh = s//(60*60)\r\n",
                "s -= hh*(60*60)\r\n",
                "mm = s//60\r\n",
                "s -= mm*(60)\r\n",
                "ss = s\r\n",
                "\r\n",
                "print(\"%d:%d:%d\" % (hh, mm, ss))"
            ],
            "outputs": [
                {
                    "output_type": "stream",
                    "name": "stdout",
                    "text": [
                        "0:1:7\n"
                    ]
                }
            ],
            "metadata": {}
        }
    ],
    "metadata": {
        "orig_nbformat": 4,
        "language_info": {
            "name": "python",
            "version": "3.8.5",
            "mimetype": "text/x-python",
            "codemirror_mode": {
                "name": "ipython",
                "version": 3
            },
            "pygments_lexer": "ipython3",
            "nbconvert_exporter": "python",
            "file_extension": ".py"
        },
        "kernelspec": {
            "name": "python3",
            "display_name": "Python 3.8.5 32-bit"
        },
        "interpreter": {
            "hash": "0db1c6882aebd70d08b8e99fbeb56982e7f0db886414c1d60e3a71076107aa49"
        }
    },
    "nbformat": 4,
    "nbformat_minor": 2
}