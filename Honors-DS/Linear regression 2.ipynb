{
 "cells": [
  {
   "cell_type": "markdown",
   "id": "d2b94cd3",
   "metadata": {},
   "source": [
    "### Name: Shubham Chemate\n",
    "### Roll Number: 31118"
   ]
  },
  {
   "cell_type": "code",
   "execution_count": 4,
   "id": "b92ea2bb",
   "metadata": {},
   "outputs": [],
   "source": [
    "import numpy as np \n",
    "import pandas as pd \n",
    "import matplotlib.pyplot as plt"
   ]
  },
  {
   "cell_type": "code",
   "execution_count": null,
   "id": "cf3580cb",
   "metadata": {},
   "outputs": [],
   "source": [
    "data=pd.read_csv('father_son.csv')"
   ]
  },
  {
   "cell_type": "code",
   "execution_count": null,
   "id": "273186ec",
   "metadata": {},
   "outputs": [
    {
     "data": {
      "text/html": [
       "<div>\n",
       "<style scoped>\n",
       "    .dataframe tbody tr th:only-of-type {\n",
       "        vertical-align: middle;\n",
       "    }\n",
       "\n",
       "    .dataframe tbody tr th {\n",
       "        vertical-align: top;\n",
       "    }\n",
       "\n",
       "    .dataframe thead th {\n",
       "        text-align: right;\n",
       "    }\n",
       "</style>\n",
       "<table border=\"1\" class=\"dataframe\">\n",
       "  <thead>\n",
       "    <tr style=\"text-align: right;\">\n",
       "      <th></th>\n",
       "      <th>Unnamed: 0</th>\n",
       "      <th>fheight</th>\n",
       "      <th>sheight</th>\n",
       "    </tr>\n",
       "  </thead>\n",
       "  <tbody>\n",
       "    <tr>\n",
       "      <th>0</th>\n",
       "      <td>1</td>\n",
       "      <td>65.04851</td>\n",
       "      <td>59.77827</td>\n",
       "    </tr>\n",
       "    <tr>\n",
       "      <th>1</th>\n",
       "      <td>2</td>\n",
       "      <td>63.25094</td>\n",
       "      <td>63.21404</td>\n",
       "    </tr>\n",
       "    <tr>\n",
       "      <th>2</th>\n",
       "      <td>3</td>\n",
       "      <td>64.95532</td>\n",
       "      <td>63.34242</td>\n",
       "    </tr>\n",
       "    <tr>\n",
       "      <th>3</th>\n",
       "      <td>4</td>\n",
       "      <td>65.75250</td>\n",
       "      <td>62.79238</td>\n",
       "    </tr>\n",
       "    <tr>\n",
       "      <th>4</th>\n",
       "      <td>5</td>\n",
       "      <td>61.13723</td>\n",
       "      <td>64.28113</td>\n",
       "    </tr>\n",
       "  </tbody>\n",
       "</table>\n",
       "</div>"
      ],
      "text/plain": [
       "   Unnamed: 0   fheight   sheight\n",
       "0           1  65.04851  59.77827\n",
       "1           2  63.25094  63.21404\n",
       "2           3  64.95532  63.34242\n",
       "3           4  65.75250  62.79238\n",
       "4           5  61.13723  64.28113"
      ]
     },
     "execution_count": 3,
     "metadata": {},
     "output_type": "execute_result"
    }
   ],
   "source": [
    "data.head()"
   ]
  },
  {
   "cell_type": "code",
   "execution_count": null,
   "id": "3cd004f1",
   "metadata": {},
   "outputs": [
    {
     "data": {
      "text/plain": [
       "<bound method DataFrame.info of       Unnamed: 0   fheight   sheight\n",
       "0              1  65.04851  59.77827\n",
       "1              2  63.25094  63.21404\n",
       "2              3  64.95532  63.34242\n",
       "3              4  65.75250  62.79238\n",
       "4              5  61.13723  64.28113\n",
       "...          ...       ...       ...\n",
       "1073        1074  66.99681  70.75232\n",
       "1074        1075  71.33181  68.26774\n",
       "1075        1076  71.78314  69.30589\n",
       "1076        1077  70.73837  69.30199\n",
       "1077        1078  70.30609  67.01500\n",
       "\n",
       "[1078 rows x 3 columns]>"
      ]
     },
     "execution_count": 4,
     "metadata": {},
     "output_type": "execute_result"
    }
   ],
   "source": [
    "data.info"
   ]
  },
  {
   "cell_type": "code",
   "execution_count": null,
   "id": "8d7be383",
   "metadata": {},
   "outputs": [
    {
     "data": {
      "text/plain": [
       "array([[65.04851],\n",
       "       [63.25094],\n",
       "       [64.95532],\n",
       "       ...,\n",
       "       [71.78314],\n",
       "       [70.73837],\n",
       "       [70.30609]])"
      ]
     },
     "execution_count": 13,
     "metadata": {},
     "output_type": "execute_result"
    }
   ],
   "source": [
    "X=data['fheight'].values[:,None]\n",
    "X"
   ]
  },
  {
   "cell_type": "code",
   "execution_count": null,
   "id": "ecb87407",
   "metadata": {},
   "outputs": [
    {
     "data": {
      "text/plain": [
       "array([59.77827, 63.21404, 63.34242, ..., 69.30589, 69.30199, 67.015  ])"
      ]
     },
     "execution_count": 14,
     "metadata": {},
     "output_type": "execute_result"
    }
   ],
   "source": [
    "y=data.iloc[:,2].values\n",
    "y"
   ]
  },
  {
   "cell_type": "code",
   "execution_count": null,
   "id": "034860cc",
   "metadata": {},
   "outputs": [],
   "source": [
    "from sklearn.model_selection import train_test_split\n",
    "X_train,X_test,y_train,y_test=train_test_split(X,y,test_size=0.2,random_state=0)"
   ]
  },
  {
   "cell_type": "code",
   "execution_count": null,
   "id": "8dd28300",
   "metadata": {},
   "outputs": [
    {
     "data": {
      "text/plain": [
       "LinearRegression()"
      ]
     },
     "execution_count": 27,
     "metadata": {},
     "output_type": "execute_result"
    }
   ],
   "source": [
    "from sklearn.linear_model import LinearRegression\n",
    "lm=LinearRegression()\n",
    "lm.fit(X_train,y_train)"
   ]
  },
  {
   "cell_type": "code",
   "execution_count": null,
   "id": "8d76c82c",
   "metadata": {},
   "outputs": [
    {
     "name": "stdout",
     "output_type": "stream",
     "text": [
      "[66.78412616 70.21929835 67.91673964 67.87884235 70.46487669 68.23764892\n",
      " 69.74662666 67.16608992 68.94025701 71.10988477 69.8471783  68.15469063\n",
      " 68.43462008 67.72894983 71.09204176 68.68435602 69.9308499  70.27062121\n",
      " 68.397538   66.33059673 69.99179739 68.54361429 68.36616242 67.10874466\n",
      " 68.21591326 65.27157166 69.30304285 68.97448075 67.86248201 67.62754731\n",
      " 71.16230817 68.21477705 68.53128926 68.54344106 69.39466789 69.11058594\n",
      " 70.83317032 67.48152198 71.5232292  68.64987753 69.15448016 69.31375274\n",
      " 68.57631459 66.2752946  67.88952166 66.84056959 67.85599086 69.11150815\n",
      " 70.91824307 66.41644394 69.60049942 67.90447066 69.56601584 69.07605141\n",
      " 68.55912375 66.46162212 67.0246145  67.9889371  67.96132679 67.89287933\n",
      " 68.80098267 67.19407726 66.75297986 69.11141135 66.37655956 67.85078368\n",
      " 69.82037812 69.76647204 69.41854349 70.64066246 69.98990202 65.32444853\n",
      " 69.07493049 69.94592118 67.11901127 67.93276371 70.14818615 69.4278828\n",
      " 67.97931756 68.20244183 67.43158498 67.78335013 67.39039116 67.07353248\n",
      " 69.86139361 67.13107645 69.91134079 71.10588003 68.40206244 68.58087979\n",
      " 70.6228704  67.56196329 67.1500251  67.91469651 67.69434906 68.7621275\n",
      " 66.67429126 68.86467132 69.60576265 72.2911309  69.56912384 70.74289038\n",
      " 69.23440177 71.875993   70.90184197 68.09655563 67.79544588 68.34133914\n",
      " 69.3644489  71.57018048 68.69113758 68.69459715 69.01905261 68.57942769\n",
      " 67.15373433 67.62982991 67.18474815 66.76764863 69.58791964 69.05067785\n",
      " 69.90778442 68.73180661 69.61458225 67.8759891  69.07135373 67.72794101\n",
      " 67.79638338 69.89518935 69.32325508 68.43260242 65.35229321 70.25228907\n",
      " 70.17726384 66.89969304 69.309641   68.6471058  68.28567526 68.81116776\n",
      " 69.72473305 70.18856475 66.34525022 66.46669174 66.16808368 67.33001941\n",
      " 70.53255479 68.30386983 71.20948363 69.9219233  68.86276066 70.66372284\n",
      " 66.98920871 67.90129132 68.07817763 67.35916844 69.9937641  67.25739397\n",
      " 67.98279241 66.19170452 69.96150707 71.40061581 69.55800126 67.52583909\n",
      " 64.54228567 70.05628597 68.53475902 69.23623091 67.6738668  68.95549643\n",
      " 67.90190783 68.58577108 69.54156959 68.18627001 68.92098738 68.65440707\n",
      " 69.02222685 68.66095935 68.7516469  68.08360391 68.52882833 68.72781715\n",
      " 68.14915736 68.77868655 69.45667516 69.90423824 68.48202991 68.53365338\n",
      " 69.1487227  68.51301826 68.11145368 69.76885655 66.69668928 68.52703996\n",
      " 67.4245079  68.52733038 68.00665273 67.96378772 66.46898453 68.85087381\n",
      " 69.39130004 68.2369458  68.13415231 66.29110977 67.94868587 69.45832088\n",
      " 67.89545744 71.31798871 71.30115452 70.50809326 68.58552142 68.22762687\n",
      " 69.4270472  67.19174371 69.3041332  66.33431615 71.10793335 67.91895091]\n"
     ]
    }
   ],
   "source": [
    "y_test=lm.predict(X_test)\n",
    "print(y_test)"
   ]
  },
  {
   "cell_type": "code",
   "execution_count": null,
   "id": "f0d2e05d",
   "metadata": {},
   "outputs": [
    {
     "data": {
      "image/png": "[encoded data removed]",
      "text/plain": [
       "<Figure size 432x288 with 1 Axes>"
      ]
     },
     "metadata": {
      "needs_background": "light"
     },
     "output_type": "display_data"
    }
   ],
   "source": [
    "plt.scatter(X,y,color='b')\n",
    "plt.plot(X_test,y_test,color='black',linewidth=3)\n",
    "plt.xlabel('Father height in inches')\n",
    "plt.ylabel('Son height in inches')\n",
    "plt.show()"
   ]
  },
  {
   "cell_type": "code",
   "execution_count": null,
   "id": "bb5bcbf3",
   "metadata": {},
   "outputs": [],
   "source": [
    "y_train_pred=lm.predict(X_train).ravel()\n",
    "y_test_pred=lm.predict(X_test).ravel()\n"
   ]
  },
  {
   "cell_type": "code",
   "execution_count": null,
   "id": "175ba32e",
   "metadata": {},
   "outputs": [],
   "source": [
    "from sklearn.metrics import mean_squared_error as mse,r2_score"
   ]
  },
  {
   "cell_type": "code",
   "execution_count": null,
   "id": "3658e401",
   "metadata": {},
   "outputs": [
    {
     "name": "stdout",
     "output_type": "stream",
     "text": [
      "The Mean Squared Error on Train set is:\t5.9\n",
      "The Mean Squared Error on Test set is:\t0.0\n"
     ]
    }
   ],
   "source": [
    "print(\"The Mean Squared Error on Train set is:\\t{:0.1f}\".format(mse(y_train,y_train_pred)))\n",
    "print(\"The Mean Squared Error on Test set is:\\t{:0.1f}\".format(mse(y_test,y_test_pred)))"
   ]
  },
  {
   "cell_type": "code",
   "execution_count": null,
   "id": "3d785c0c",
   "metadata": {},
   "outputs": [
    {
     "name": "stdout",
     "output_type": "stream",
     "text": [
      "The R2 score on the Train set is:\t0.3\n",
      "The R2 score on the Test set is:\t1.0\n"
     ]
    }
   ],
   "source": [
    "print(\"The R2 score on the Train set is:\\t{:0.1f}\".format(r2_score(y_train,y_train_pred)))\n",
    "print(\"The R2 score on the Test set is:\\t{:0.1f}\".format(r2_score(y_test,y_test_pred)))"
   ]
  },
  {
   "cell_type": "code",
   "execution_count": null,
   "id": "45cb7368",
   "metadata": {},
   "outputs": [],
   "source": []
  }
 ],
 "metadata": {
  "kernelspec": {
   "display_name": "Python 3 (ipykernel)",
   "language": "python",
   "name": "python3"
  },
  "language_info": {
   "codemirror_mode": {
    "name": "ipython",
    "version": 3
   },
   "file_extension": ".py",
   "mimetype": "text/x-python",
   "name": "python",
   "nbconvert_exporter": "python",
   "pygments_lexer": "ipython3",
   "version": "3.8.5"
  }
 },
 "nbformat": 4,
 "nbformat_minor": 5
}
